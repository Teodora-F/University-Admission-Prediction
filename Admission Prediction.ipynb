{
 "cells": [
  {
   "cell_type": "code",
   "execution_count": 206,
   "metadata": {},
   "outputs": [],
   "source": [
    "import pandas as pd\n",
    "import numpy as np\n",
    "import matplotlib.pyplot as plt\n",
    "import random"
   ]
  },
  {
   "cell_type": "code",
   "execution_count": 207,
   "metadata": {},
   "outputs": [
    {
     "data": {
      "text/html": [
       "<div>\n",
       "<style scoped>\n",
       "    .dataframe tbody tr th:only-of-type {\n",
       "        vertical-align: middle;\n",
       "    }\n",
       "\n",
       "    .dataframe tbody tr th {\n",
       "        vertical-align: top;\n",
       "    }\n",
       "\n",
       "    .dataframe thead th {\n",
       "        text-align: right;\n",
       "    }\n",
       "</style>\n",
       "<table border=\"1\" class=\"dataframe\">\n",
       "  <thead>\n",
       "    <tr style=\"text-align: right;\">\n",
       "      <th></th>\n",
       "      <th>GRE Score</th>\n",
       "      <th>TOEFL Score</th>\n",
       "      <th>University Rating</th>\n",
       "      <th>SOP</th>\n",
       "      <th>LOR</th>\n",
       "      <th>CGPA</th>\n",
       "      <th>Research</th>\n",
       "      <th>Chance of Admit</th>\n",
       "    </tr>\n",
       "  </thead>\n",
       "  <tbody>\n",
       "    <tr>\n",
       "      <th>count</th>\n",
       "      <td>500.000000</td>\n",
       "      <td>500.000000</td>\n",
       "      <td>500.000000</td>\n",
       "      <td>500.000000</td>\n",
       "      <td>500.00000</td>\n",
       "      <td>500.000000</td>\n",
       "      <td>500.000000</td>\n",
       "      <td>500.00000</td>\n",
       "    </tr>\n",
       "    <tr>\n",
       "      <th>mean</th>\n",
       "      <td>316.472000</td>\n",
       "      <td>107.192000</td>\n",
       "      <td>3.114000</td>\n",
       "      <td>3.374000</td>\n",
       "      <td>3.48400</td>\n",
       "      <td>8.576440</td>\n",
       "      <td>0.560000</td>\n",
       "      <td>0.72174</td>\n",
       "    </tr>\n",
       "    <tr>\n",
       "      <th>std</th>\n",
       "      <td>11.295148</td>\n",
       "      <td>6.081868</td>\n",
       "      <td>1.143512</td>\n",
       "      <td>0.991004</td>\n",
       "      <td>0.92545</td>\n",
       "      <td>0.604813</td>\n",
       "      <td>0.496884</td>\n",
       "      <td>0.14114</td>\n",
       "    </tr>\n",
       "    <tr>\n",
       "      <th>min</th>\n",
       "      <td>290.000000</td>\n",
       "      <td>92.000000</td>\n",
       "      <td>1.000000</td>\n",
       "      <td>1.000000</td>\n",
       "      <td>1.00000</td>\n",
       "      <td>6.800000</td>\n",
       "      <td>0.000000</td>\n",
       "      <td>0.34000</td>\n",
       "    </tr>\n",
       "    <tr>\n",
       "      <th>25%</th>\n",
       "      <td>308.000000</td>\n",
       "      <td>103.000000</td>\n",
       "      <td>2.000000</td>\n",
       "      <td>2.500000</td>\n",
       "      <td>3.00000</td>\n",
       "      <td>8.127500</td>\n",
       "      <td>0.000000</td>\n",
       "      <td>0.63000</td>\n",
       "    </tr>\n",
       "    <tr>\n",
       "      <th>50%</th>\n",
       "      <td>317.000000</td>\n",
       "      <td>107.000000</td>\n",
       "      <td>3.000000</td>\n",
       "      <td>3.500000</td>\n",
       "      <td>3.50000</td>\n",
       "      <td>8.560000</td>\n",
       "      <td>1.000000</td>\n",
       "      <td>0.72000</td>\n",
       "    </tr>\n",
       "    <tr>\n",
       "      <th>75%</th>\n",
       "      <td>325.000000</td>\n",
       "      <td>112.000000</td>\n",
       "      <td>4.000000</td>\n",
       "      <td>4.000000</td>\n",
       "      <td>4.00000</td>\n",
       "      <td>9.040000</td>\n",
       "      <td>1.000000</td>\n",
       "      <td>0.82000</td>\n",
       "    </tr>\n",
       "    <tr>\n",
       "      <th>max</th>\n",
       "      <td>340.000000</td>\n",
       "      <td>120.000000</td>\n",
       "      <td>5.000000</td>\n",
       "      <td>5.000000</td>\n",
       "      <td>5.00000</td>\n",
       "      <td>9.920000</td>\n",
       "      <td>1.000000</td>\n",
       "      <td>0.97000</td>\n",
       "    </tr>\n",
       "  </tbody>\n",
       "</table>\n",
       "</div>"
      ],
      "text/plain": [
       "        GRE Score  TOEFL Score  University Rating         SOP       LOR   \\\n",
       "count  500.000000   500.000000         500.000000  500.000000  500.00000   \n",
       "mean   316.472000   107.192000           3.114000    3.374000    3.48400   \n",
       "std     11.295148     6.081868           1.143512    0.991004    0.92545   \n",
       "min    290.000000    92.000000           1.000000    1.000000    1.00000   \n",
       "25%    308.000000   103.000000           2.000000    2.500000    3.00000   \n",
       "50%    317.000000   107.000000           3.000000    3.500000    3.50000   \n",
       "75%    325.000000   112.000000           4.000000    4.000000    4.00000   \n",
       "max    340.000000   120.000000           5.000000    5.000000    5.00000   \n",
       "\n",
       "             CGPA    Research  Chance of Admit   \n",
       "count  500.000000  500.000000         500.00000  \n",
       "mean     8.576440    0.560000           0.72174  \n",
       "std      0.604813    0.496884           0.14114  \n",
       "min      6.800000    0.000000           0.34000  \n",
       "25%      8.127500    0.000000           0.63000  \n",
       "50%      8.560000    1.000000           0.72000  \n",
       "75%      9.040000    1.000000           0.82000  \n",
       "max      9.920000    1.000000           0.97000  "
      ]
     },
     "execution_count": 207,
     "metadata": {},
     "output_type": "execute_result"
    }
   ],
   "source": [
    "\"\"\"Reading the Data from the Kaggle downloaded data set\"\"\"\n",
    "data = pd.read_csv('Admission_Predict_Ver1.1.csv')\n",
    "data.isnull().sum() #Ensuring the dataframe has no missing values\n",
    "data_ready = data.drop(labels='Serial No.',axis=1) #Serial No. is not a feature influencing the Chance of Admit\n",
    "data_ready.head()\n",
    "columns = list(data_ready)\n",
    "data_ready.describe() #Describing the data for analytical inspection"
   ]
  },
  {
   "cell_type": "code",
   "execution_count": 208,
   "metadata": {},
   "outputs": [
    {
     "name": "stdout",
     "output_type": "stream",
     "text": [
      "Top 3 most correlated independent variables with the dependent variable ['CGPA', 'GRE Score', 'TOEFL Score']\n"
     ]
    },
    {
     "data": {
      "image/png": "[encoded data removed]",
      "text/plain": [
       "<Figure size 648x504 with 2 Axes>"
      ]
     },
     "metadata": {},
     "output_type": "display_data"
    }
   ],
   "source": [
    "\"\"\"Plot Confusion Matrix to show the correlation between the independent variables and the dependent one \"\"\"\n",
    "\n",
    "import seaborn as sns\n",
    "corrs = data_ready.corr()\n",
    "with sns.axes_style(\"white\"):\n",
    "    f, ax = plt.subplots(figsize=(9, 7))\n",
    "    ax = sns.heatmap(corrs,square=True,annot=True,fmt='0.2f',linewidths=.8,cmap=\"rocket\")\n",
    "    \n",
    "corr_chance =  data_ready[data_ready.columns[0:]].corr()[str(columns[-1])][:-1] #corr with respect to Chance of Admit\n",
    "sort_chance = sorted(corr_chance)[-3:]\n",
    "top3 = []\n",
    "for i in sort_chance:\n",
    "    indx = corr_chance[corr_chance == i].index[0]\n",
    "    top3.append(indx)\n",
    "print(\"Top 3 most correlated independent variables with the dependent variable\", top3[::-1])"
   ]
  },
  {
   "cell_type": "code",
   "execution_count": 209,
   "metadata": {},
   "outputs": [
    {
     "data": {
      "text/plain": [
       "'The linear relationship can be clearly seen from these graphs'"
      ]
     },
     "execution_count": 209,
     "metadata": {},
     "output_type": "execute_result"
    },
    {
     "data": {
      "image/png": "[encoded data removed]",
      "text/plain": [
       "<Figure size 432x288 with 3 Axes>"
      ]
     },
     "metadata": {
      "needs_background": "light"
     },
     "output_type": "display_data"
    }
   ],
   "source": [
    "\"\"\"Plotting the relationship between the top three correlated independent variable and the Chance of Admit\"\"\"\n",
    "chance = data_ready[str(columns[-1])]\n",
    "x_cgpa = data_ready[top3[0]]\n",
    "x_gre = data_ready[top3[1]]\n",
    "x_toefl = data_ready[top3[2]]\n",
    "\n",
    "fig, (ax1, ax2, ax3) = plt.subplots(1, 3)\n",
    "plt.tight_layout()\n",
    "fig.suptitle('Independent variables versus dependent')\n",
    "ax1.scatter(x_cgpa, chance)\n",
    "ax1.set_xlabel(\"CGPA\")\n",
    "ax2.scatter(x_gre, chance)\n",
    "ax2.set_xlabel(\"GRE\")\n",
    "ax3.scatter(x_toefl, chance)\n",
    "ax3.set_xlabel(\"TOEFL\")\n",
    "\"\"\"The linear relationship can be clearly seen from these graphs\"\"\""
   ]
  },
  {
   "cell_type": "code",
   "execution_count": 210,
   "metadata": {},
   "outputs": [],
   "source": [
    "def get_data(dataframe):\n",
    "    \"\"\"Separates the independent variables from the dependent one in the data set\"\"\"\n",
    "    \"\"\"Adds the intercept to the X vector\"\"\"\n",
    "    X = dataframe.iloc[:,:-1] \n",
    "    y = dataframe[\"Chance of Admit \"].tolist() \n",
    "    X = np.c_[np.ones(len(X)),X] \n",
    "    \n",
    "    return X,y    \n",
    "\n",
    "def scale(data):\n",
    "    \"\"\"The scaling is done through a mean normalization approach such that the mean of the features is 0\"\"\"\n",
    "    newval = data - np.mean(data)\n",
    "    return newval / np.std(data)\n",
    "\n",
    "def scale_alldata(dataframe):\n",
    "    \"\"\"Scalling the entire data set\"\"\"\n",
    "    for i in columns[:-1]:\n",
    "            #print(i)\n",
    "            dataframe[i] = scale(dataframe[i])    \n",
    "    return dataframe \n",
    "\n",
    "data_ready = scale_alldata(data_ready) #Data ready for modelling\n"
   ]
  },
  {
   "cell_type": "code",
   "execution_count": 211,
   "metadata": {},
   "outputs": [],
   "source": [
    "def splitting(X,y,k):\n",
    "    \"\"\"Splitting the data into the training and testing set by choosing randomly the indexes to make up each\"\"\"\n",
    "\n",
    "    list_indx = list(np.arange(0,500))\n",
    "    train_indx = random.sample(list_indx,k=400) # The train data consists of 400 examples.\n",
    "    test_indx = [i for j, i in enumerate(list_indx) if j not in train_indx]\n",
    "    if bool(set(train_indx) & set(test_indx)) == False: #Test if indexes overlap\n",
    "        X_train = np.take(X,train_indx,axis=0)\n",
    "        X_test = np.take(X,test_indx,axis=0)\n",
    "\n",
    "        y_train = np.take(y,train_indx)\n",
    "        y_test = np.take(y,test_indx)\n",
    "        \n",
    "    return X_train,y_train,X_test,y_test\n",
    "\n",
    "def shuffle(X,y): \n",
    "    \"\"\"Shuffling the data to ensure randomness in the distribution of the data\"\"\"\n",
    "    np.random.seed(1)\n",
    "    xy = list(zip(X, y))\n",
    "    random.shuffle(xy)\n",
    "    X, y = zip(*xy)\n",
    "    \n",
    "    return X,y\n"
   ]
  },
  {
   "cell_type": "code",
   "execution_count": 294,
   "metadata": {},
   "outputs": [],
   "source": [
    "def predict(X,theta_update):\n",
    "    \"\"\"The prediction of the dependent variable y\"\"\"\n",
    "    return X.dot(theta_update)\n",
    "    #return np.dot(X, theta_update)\n",
    "\n",
    "def cost_func(X,y,theta):\n",
    "    \"\"\"Loss function\"\"\"\n",
    "    n = X.shape[0] #for MSE\n",
    "    j = (1/2)*np.sum((np.dot(X,theta)-y)**2)\n",
    "    return j\n",
    "    \n",
    "def r_sq(y_real,y_pred):\n",
    "    \"\"\"R^2 measurement\"\"\"\n",
    "    y_avg = (1/len(y_real))*np.sum(y_real)\n",
    "    err = np.sum((y_real-y_pred)**2)\n",
    "    denom = np.sum((y_real-y_avg)**2)\n",
    "    val = 1 - (err/denom)\n",
    "    return val\n",
    "\n",
    "def rmse(y_real, y_pred):\n",
    "    \"\"\"RMSE measurement\"\"\"\n",
    "    return np.sqrt(((y_pred - y_real) ** 2).mean())\n",
    "\n",
    "def split_mini(X,y,batch_size):\n",
    "    \"\"\"Splitting the data into mini-batches\"\"\"\n",
    "    X_batch,y_batch = shuffle(X,y)\n",
    "    if len(X_batch)%batch_size !=0: \n",
    "        n_minibatches = len(X_batch) // batch_size \n",
    "        i = 0\n",
    "        mini_batches_x = []\n",
    "        mini_batches_y = []\n",
    "        for i in range(n_minibatches + 1): \n",
    "             X_mini = X_batch[i * batch_size:(i + 1)*batch_size] \n",
    "             y_mini = y_batch[i * batch_size:(i + 1)*batch_size]\n",
    "             mini_batches_x.append(X_mini) \n",
    "             mini_batches_y.append(y_mini)\n",
    "    else:\n",
    "        n_minibatches = len(X_batch) // batch_size \n",
    "        i = 0\n",
    "        mini_batches_x = []\n",
    "        mini_batches_y = []\n",
    "        for i in range(n_minibatches): \n",
    "             X_mini = X_batch[i * batch_size:(i + 1)*batch_size] \n",
    "             y_mini = y_batch[i * batch_size:(i + 1)*batch_size]\n",
    "             mini_batches_x.append(X_mini) \n",
    "             mini_batches_y.append(y_mini)\n",
    "        \n",
    "    return mini_batches_x,mini_batches_y\n",
    "    "
   ]
  },
  {
   "cell_type": "code",
   "execution_count": 213,
   "metadata": {},
   "outputs": [],
   "source": [
    "\"\"\"STANDARD GRADIENT DESCENT IMPLEMENTATION\"\"\"\n",
    "   \n",
    "def gradient_descent(X,y,learning_rate,epochs):\n",
    "    \n",
    "    loss_list = []\n",
    "    m = X.shape[0] \n",
    "    theta = np.zeros(X.shape[1])\n",
    "    for i in range(epochs):\n",
    "        predict_y = np.dot(X,theta) #predicted values \n",
    "        loss_val = predict_y-y      # difference between the true values and the predicted ones\n",
    "\n",
    "        grad = np.dot(loss_val,X)*(1/m) #Derivative of the loss function\n",
    "        theta = theta - learning_rate*grad #Update of the parameters\n",
    "        cost = cost_func(X,y,theta) #Evaluate the cost  \n",
    "        loss_list.append(cost)\n",
    "        #print(f\"Iteration : {i}; Cost : {cost}\")\n",
    "        \n",
    "    return theta,loss_list"
   ]
  },
  {
   "cell_type": "code",
   "execution_count": 214,
   "metadata": {},
   "outputs": [],
   "source": [
    "\"\"\"STOCHASTIC GRADIENT DESCENT\"\"\"\n",
    "\n",
    "def sgd(X,y,learning_rate,epochs):\n",
    "    theta = np.zeros(X.shape[1])\n",
    "    loss_list = []    \n",
    "    for i in range(epochs): \n",
    "        #print('Epoch',i)\n",
    "        rand_data = shuffle(X,y)\n",
    "        loss_list = []\n",
    "        x_use = np.asarray(rand_data[0])\n",
    "        y_use = np.asarray(rand_data[1])\n",
    "        for x1,y1 in zip(x_use,y_use):\n",
    "            loss = x1.dot(theta)-y1\n",
    "            grad = np.dot(x1,loss)\n",
    "            theta = theta - learning_rate*grad\n",
    "            cost = cost_func(x1,y1,theta)\n",
    "            loss_list.append(cost)\n",
    "            #print(f\"Iteration : {i}; Cost : {cost}\")\n",
    "   \n",
    "    return theta,loss_list"
   ]
  },
  {
   "cell_type": "code",
   "execution_count": 280,
   "metadata": {},
   "outputs": [],
   "source": [
    "def mini(X,y,learning_rate,batch_size,epochs):\n",
    "    theta = np.zeros(X.shape[1])\n",
    "    loss_list = []\n",
    "    for i in range(epochs): \n",
    "        #print('Epoch',i)\n",
    "        x_mini,y_mini = split_mini(X,y,batch_size)\n",
    "        for j in range(len(x_mini)):\n",
    "            x_use = np.asarray(x_mini[j])\n",
    "            y_use = np.asarray(y_mini[j])\n",
    "            if len(x_use) != 0:\n",
    "                h = np.dot(x_use,theta)\n",
    "                #h = x_use.dot(theta)\n",
    "                grad = (2)*x_use.T.dot(h-y_use)\n",
    "                theta = theta - learning_rate*grad*(1/batch_size)\n",
    "                cost = cost_func(x_use,y_use,theta)\n",
    "                loss_list.append(cost)\n",
    "            else:\n",
    "                print(\"wrong\")\n",
    "                break\n",
    "\n",
    "        \n",
    "    return theta,loss_list"
   ]
  },
  {
   "cell_type": "code",
   "execution_count": 216,
   "metadata": {},
   "outputs": [],
   "source": [
    "\"\"\"Perform grid search to identify the best values for the hyperparameters for GD\"\"\"\n",
    "def hyperparameters(X_train,y_train,learning_range,epochs,name_model,batch):\n",
    "    \n",
    "    lr_range = learning_range\n",
    "    iterations = epochs\n",
    "    r2_list = []\n",
    "    rmse_list = []\n",
    "    all_losses = []\n",
    "    for i in lr_range:\n",
    "        theta_test = np.zeros(X_train.shape[1])\n",
    "        if name_model == 'STD':\n",
    "            thetanew,lossval = gradient_descent(X = X_train, y = y_train,learning_rate=i,epochs=iterations)\n",
    "        elif name_model == 'SGD':\n",
    "            thetanew,lossval = sgd(X = X_train, y = y_train,learning_rate=i,epochs=iterations)\n",
    "        elif name_model == 'MINI':\n",
    "            thetanew,lossval = mini(X = X_train, y = y_train,learning_rate=i,batch_size = batch,epochs=iterations)\n",
    "        y_pred = predict(X_train,thetanew)\n",
    "        r2 = r_sq(y_train,y_pred)\n",
    "        rmse_val = rmse(y_train,y_pred)\n",
    "        r2_list.append(r2)\n",
    "        rmse_list.append(rmse_val)\n",
    "        all_losses.append(lossval)\n",
    "        \n",
    "    data_performance = {'Learning rates':lr_range,'R^2':r2_list,'RMSE':rmse_list}\n",
    "    df = pd.DataFrame(data = data_performance)\n",
    "    return df, all_losses\n",
    "\n"
   ]
  },
  {
   "cell_type": "code",
   "execution_count": 218,
   "metadata": {},
   "outputs": [
    {
     "name": "stdout",
     "output_type": "stream",
     "text": [
      "   Learning rates       R^2      RMSE\n",
      "0           0.001  0.730573  0.071813\n",
      "1           0.005  0.808785  0.060498\n",
      "2           0.010  0.808951  0.060472\n",
      "3           0.050  0.808952  0.060472\n",
      "4           0.100  0.808952  0.060472\n",
      "Best Learning Rate: 0.05\n"
     ]
    },
    {
     "data": {
      "text/plain": [
       "Text(0, 0.5, 'R squared')"
      ]
     },
     "execution_count": 218,
     "metadata": {},
     "output_type": "execute_result"
    },
    {
     "data": {
      "image/png": "[encoded data removed]",
      "text/plain": [
       "<Figure size 432x288 with 1 Axes>"
      ]
     },
     "metadata": {
      "needs_background": "light"
     },
     "output_type": "display_data"
    }
   ],
   "source": [
    "\"\"\"STANDARD GRADIENT DESCENT: GRID SEARCH\"\"\"\n",
    "print(dfperf)\n",
    "lr = [0.001,0.005,0.01,0.05,0.1]\n",
    "epochval = 3000\n",
    "dfperf,loss_list = hyperparameters(X_train,y_train,lr,epochval,'STD',batch=0) \n",
    "\n",
    "\"\"\"Give the best learning rate\"\"\"\n",
    "r2_val = list(dfperf['R^2'])\n",
    "rmse_val = list(dfperf['RMSE'])\n",
    "lr_val = list((dfperf['Learning rates']))\n",
    "min_rmse = min(rmse_val)\n",
    "indx_min = rmse_val.index(min_rmse)\n",
    "print(\"Best Learning Rate:\", lr_val[indx_min])\n",
    "\n",
    "plt.plot(lr_val,r2_val)\n",
    "plt.xlabel(\"Learning Rates\")\n",
    "plt.ylabel(\"R squared\")\n"
   ]
  },
  {
   "cell_type": "code",
   "execution_count": 241,
   "metadata": {},
   "outputs": [
    {
     "name": "stdout",
     "output_type": "stream",
     "text": [
      "R2 0.8647935177303137\n",
      "RMSE 0.051420056900356656\n"
     ]
    }
   ],
   "source": [
    "\"\"\"STANDARD GRADIENT DESCENT : FINAL PREDICTION FOR THE TEST SET USING THE BEST PARAMETERS\"\"\"\n",
    "lr = 0.01\n",
    "iterations = 3000\n",
    "\n",
    "X,y = get_data(data_ready)\n",
    "X_train,y_train,X_test,y_test = splitting(X,y,k=400)\n",
    "\n",
    "theta_test = np.zeros(X_train.shape[1])\n",
    "thetanew,losslist = gradient_descent(X = X_train, y = y_train,learning_rate=lr,epochs=iterations)\n",
    "y_pred = predict(X_test,thetanew)\n",
    "data_pred = {'Chance of Admit':y_test,'Prediction':y_pred}\n",
    "df = pd.DataFrame(data= data_pred)\n",
    "\n",
    "a = r_sq(y_test,y_pred)\n",
    "b = rmse(y_test,y_pred)\n",
    "\n",
    "print(\"R2\",a)\n",
    "print(\"RMSE\",b)"
   ]
  },
  {
   "cell_type": "code",
   "execution_count": 260,
   "metadata": {},
   "outputs": [
    {
     "name": "stdout",
     "output_type": "stream",
     "text": [
      "   Learning rates       R^2      RMSE\n",
      "0          0.0001  0.817222  0.060568\n",
      "1          0.0005  0.817208  0.060570\n",
      "2          0.0010  0.817221  0.060568\n",
      "3          0.0050  0.811909  0.061442\n",
      "4          0.0100  0.814768  0.060973\n",
      "5          0.0500  0.783253  0.065956\n",
      "6          0.1000  0.617986  0.087563\n"
     ]
    }
   ],
   "source": [
    "\"\"\"SGD : GRID SEARCH \"\"\"\n",
    "X, y = get_data(data_ready)\n",
    "X_train_sgd,y_train_sgd,X_test_sgd,y_test_sgd = splitting(X,y,k=400)\n",
    "lr_sgd = [0.0001,0.0005,0.001,0.005,0.01,0.05,0.1]\n",
    "#lr_sgd = [0.0001,0.0005,0.001]\n",
    "ep_sgd = 1000\n",
    "df_sgd,_ = hyperparameters(X_train_sgd,y_train_sgd,lr_sgd,ep_sgd, name_model = 'SGD',batch=0)\n",
    "print(df_sgd)"
   ]
  },
  {
   "cell_type": "code",
   "execution_count": 262,
   "metadata": {},
   "outputs": [
    {
     "name": "stdout",
     "output_type": "stream",
     "text": [
      "R squared is 0.8398675505524198\n",
      "RMSE is 0.055262540613602674\n",
      "    Chance of Admit  Prediction\n",
      "0              0.68    0.600041\n",
      "1              0.54    0.648397\n",
      "2              0.95    0.961650\n",
      "3              0.94    0.962272\n",
      "4              0.74    0.717834\n",
      "..              ...         ...\n",
      "95             0.71    0.732347\n",
      "96             0.79    0.817184\n",
      "97             0.78    0.715875\n",
      "98             0.76    0.766572\n",
      "99             0.87    0.837277\n",
      "\n",
      "[100 rows x 2 columns]\n"
     ]
    }
   ],
   "source": [
    "\"\"\"SGD : FINAL PREDICTION FOR THE TEST SET USING THE BEST PARAMETERS\"\"\"\n",
    "lr = 0.001\n",
    "iterations = 1500\n",
    "\n",
    "theta_sgd,loss_sgd = sgd(X_train_sgd,y_train_sgd,lr,iterations)\n",
    "y_pred_sgd = predict(X_test_sgd,theta_sgd)\n",
    "a = r_sq(y_test_sgd,y_pred_sgd)\n",
    "b = rmse(y_test_sgd,y_pred_sgd)\n",
    "print(\"R squared is\",a)\n",
    "print(\"RMSE is\",b)\n",
    "data_sgd = {'Chance of Admit':y_test_sgd,'Prediction':y_pred_sgd}\n",
    "df_sgd = pd.DataFrame(data= data_sgd)\n",
    "print(df_sgd)"
   ]
  },
  {
   "cell_type": "code",
   "execution_count": 309,
   "metadata": {},
   "outputs": [],
   "source": [
    "\"\"\"MINI: GRID SEARCH ON BATCH SIZE\"\"\"\n",
    "\n",
    "X, y = get_data(data_ready)\n",
    "X_train,y_train,X_test,y_test= splitting(X,y,k=400)\n",
    "lr_mini = [0.0001,0.001,0.01,0.1]\n",
    "#lr_sgd = [0.0001,0.0005,0.001]\n",
    "batch_list = [2,4,8,16,32,64]\n",
    "ep = 500\n",
    "list_fr = []\n",
    "for j in batch_list:\n",
    "    df_mini,_ = hyperparameters(X_train,y_train,lr_mini,ep, name_model = 'MINI',batch=j)\n",
    "    list_fr.append(df_mini)\n",
    "#print(list_fr)\n"
   ]
  },
  {
   "cell_type": "code",
   "execution_count": 307,
   "metadata": {},
   "outputs": [
    {
     "name": "stdout",
     "output_type": "stream",
     "text": [
      "R squared is 0.8515758627642077\n",
      "RMSE is 0.060515568613697134\n",
      "    Chance of Admit  Prediction\n",
      "0              0.68    0.600041\n",
      "1              0.54    0.648397\n",
      "2              0.95    0.961650\n",
      "3              0.94    0.962272\n",
      "4              0.74    0.717834\n",
      "..              ...         ...\n",
      "95             0.71    0.732347\n",
      "96             0.79    0.817184\n",
      "97             0.78    0.715875\n",
      "98             0.76    0.766572\n",
      "99             0.87    0.837277\n",
      "\n",
      "[100 rows x 2 columns]\n"
     ]
    }
   ],
   "source": [
    "\"\"\"MINI : FINAL PREDICTION FOR THE TEST SET USING THE BEST PARAMETERS\"\"\"\n",
    "lr = 0.001\n",
    "batchs = 4\n",
    "iterations = 1500\n",
    "\n",
    "X, y = get_data(data_ready)\n",
    "X_train,y_train,X_test,y_test = splitting(X,y,k=400)\n",
    "\n",
    "theta_mini,loss_mini = mini(X_train,y_train,lr,batchs,iterations)\n",
    "y_pred_mini = predict(X_test,theta_mini)\n",
    "a = r_sq(y_test,y_pred_mini)\n",
    "b = rmse(y_test,y_pred_mini)\n",
    "print(\"R squared is\",a)\n",
    "print(\"RMSE is\",b)\n",
    "data_mini = {'Chance of Admit':y_test,'Prediction':y_pred_mini}\n",
    "df_mini = pd.DataFrame(data= data_sgd)\n",
    "print(df_mini)"
   ]
  }
 ],
 "metadata": {
  "kernelspec": {
   "display_name": "Python 3",
   "language": "python",
   "name": "python3"
  },
  "language_info": {
   "codemirror_mode": {
    "name": "ipython",
    "version": 3
   },
   "file_extension": ".py",
   "mimetype": "text/x-python",
   "name": "python",
   "nbconvert_exporter": "python",
   "pygments_lexer": "ipython3",
   "version": "3.7.4"
  }
 },
 "nbformat": 4,
 "nbformat_minor": 2
}
